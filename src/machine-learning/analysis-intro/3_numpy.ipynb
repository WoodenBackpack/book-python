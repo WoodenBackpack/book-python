{
 "cells": [
  {
   "cell_type": "markdown",
   "metadata": {},
   "source": [
    "![](http://sigdelta.com/assets/images/sages-sd-logo.png)\n",
    "\n",
    "# Analiza danych i uczenie maszynowe w Python\n",
    "\n",
    "Autor notebooka: Jakub Nowacki.\n",
    "\n",
    "## NumPy\n",
    "\n",
    "[NumPy](http://www.numpy.org/) jest podstawowym pakie (dodatkowym) w Pythonie do obliczeń naukowych. Integruje on niskopoziomowe biblioteki takie jak BLAS i LAPACK lub ATLAS. Podstawowe właściwości NumPy to :\n",
    "* potężny N-wymiarowy obiekt tablicy danych\n",
    "* rozbudowane funkcje (\n",
    "* narzędzia do integracji z codem napisanym w C/C++ i Fortranie\n",
    "* narzędzia do algebry liniowej, transformaty Fouriera czy generator liczb losowych\n",
    "\n",
    "Numpy importujemy używając nazwy `numpy`, najlepiej w całości jako pakiet. Często stosowany jest alias `np`."
   ]
  },
  {
   "cell_type": "code",
   "execution_count": 0,
   "metadata": {},
   "outputs": [],
   "source": [
    "import numpy as np"
   ]
  },
  {
   "cell_type": "markdown",
   "metadata": {},
   "source": [
    "## Tablica\n",
    "\n",
    "Podstawowym obiektem w Numpy jest tablica zwana `ndarray` od ang. *N-dimensional array*. Talbicę można stworzyć z kolekcji za pomocą funkcji `ndarray` lub jej aliasu `array`:"
   ]
  },
  {
   "cell_type": "code",
   "execution_count": 3,
   "metadata": {},
   "outputs": [
    {
     "name": "stdout",
     "output_type": "stream",
     "text": [
      "[1 2 3]\n"
     ]
    },
    {
     "data": {
      "text/plain": [
       "array([[1, 2],\n",
       "       [3, 4]])"
      ]
     },
     "execution_count": 3,
     "metadata": {},
     "output_type": "execute_result"
    }
   ],
   "source": [
    "n1 = np.array([1,2,3])\n",
    "print(n1)\n",
    "n2 = np.array([[1,2],[3,4]])\n",
    "n2\n",
    "# ... itd"
   ]
  },
  {
   "cell_type": "markdown",
   "metadata": {},
   "source": [
    "Każda komenda ma poniższe właściwości:"
   ]
  },
  {
   "cell_type": "code",
   "execution_count": 4,
   "metadata": {},
   "outputs": [
    {
     "name": "stdout",
     "output_type": "stream",
     "text": [
      "Wymiar: n1: 1, n2: 2\n",
      "Kształt: n1: (3,), n2: (2, 2)\n",
      "Rozmiar: n1: 3, n2: 4\n",
      "Typ: n1: int32, n2: int32\n",
      "Rozmiar elementu (w bajtach): n1: 4, n2: 4\n",
      "Wskaźnik do danych: n1: <memory at 0x000001B93EC75348>, n2: <memory at 0x000001B93EC5BB40>\n"
     ]
    }
   ],
   "source": [
    "print('Wymiar: n1: {}, n2: {}'.format(n1.ndim, n2.ndim))\n",
    "print('Kształt: n1: {}, n2: {}'.format(n1.shape, n2.shape))\n",
    "print('Rozmiar: n1: {}, n2: {}'.format(n1.size, n2.size))\n",
    "print('Typ: n1: {}, n2: {}'.format(n1.dtype, n2.dtype))\n",
    "print('Rozmiar elementu (w bajtach): n1: {}, n2: {}'.format(n1.itemsize, n2.itemsize))\n",
    "print('Wskaźnik do danych: n1: {}, n2: {}'.format(n1.data, n2.data))"
   ]
  },
  {
   "cell_type": "markdown",
   "metadata": {},
   "source": [
    "W przeciwieństwie do kolekcji, tablice mogą mieć tylko jeden typ elementu, choć moze być złożony; zobacz [ten link](https://docs.scipy.org/doc/numpy/reference/arrays.dtypes.html)."
   ]
  },
  {
   "cell_type": "code",
   "execution_count": 5,
   "metadata": {},
   "outputs": [
    {
     "name": "stdout",
     "output_type": "stream",
     "text": [
      "Tablica: [1], typ: int32\n",
      "Tablica: [1.], typ: float64\n",
      "Tablica: [0.+1.j], typ: complex128\n",
      "Tablica: ['1'], typ: <U1\n"
     ]
    }
   ],
   "source": [
    "for v in [1, 1., 1j]:\n",
    "    a = np.array([v])\n",
    "    print('Tablica: {}, typ: {}'.format(a, a.dtype))\n",
    "# Można też wymusić typ przy tworzeniu tablicy\n",
    "a = np.array([1], dtype=str)\n",
    "print('Tablica: {}, typ: {}'.format(a, a.dtype))"
   ]
  },
  {
   "cell_type": "markdown",
   "metadata": {},
   "source": [
    "Są też ogólne metody tworzenia tablic o specyficznych właściwościach:"
   ]
  },
  {
   "cell_type": "code",
   "execution_count": 6,
   "metadata": {},
   "outputs": [
    {
     "name": "stdout",
     "output_type": "stream",
     "text": [
      "Zakres:\n",
      "[1 2 3 4 5 6 7 8 9]\n",
      "Zera:\n",
      "[[0. 0. 0.]\n",
      " [0. 0. 0.]]\n",
      "Jedynki:\n",
      "[[1. 1.]\n",
      " [1. 1.]\n",
      " [1. 1.]]\n",
      "Pusta:\n",
      "[[1.01855798e-312 1.18831764e-312 1.01855798e-312 9.54898106e-313\n",
      "  1.06099790e-312 1.03977794e-312 1.23075756e-312]\n",
      " [1.20953760e-312 1.06099790e-312 9.76118064e-313 1.01855798e-312\n",
      "  1.01855798e-312 1.16709769e-312 4.44659081e-322]]\n",
      "Losowa:\n",
      "[[0.6468727  0.76909227]\n",
      " [0.89730518 0.13993221]]\n"
     ]
    }
   ],
   "source": [
    "print('Zakres:\\n{}'.format(np.arange(1,10)))\n",
    "print('Zera:\\n{}'.format(np.zeros((2,3))))\n",
    "print('Jedynki:\\n{}'.format(np.ones((3,2))))\n",
    "print('Pusta:\\n{}'.format(np.empty((2,7)))) # Bez inicjalizacji\n",
    "print('Losowa:\\n{}'.format(np.random.rand(2,2)))"
   ]
  },
  {
   "cell_type": "markdown",
   "metadata": {},
   "source": [
    "Pobieranie wartości z tablic:"
   ]
  },
  {
   "cell_type": "code",
   "execution_count": 7,
   "metadata": {},
   "outputs": [
    {
     "name": "stdout",
     "output_type": "stream",
     "text": [
      "2 4\n",
      "4\n",
      "[3 4]\n",
      "[2 4]\n",
      "[3]\n"
     ]
    }
   ],
   "source": [
    "# Jak w kolekcjach\n",
    "print(n1[1], n2[1][1])\n",
    "# ... ale jest też skrót\n",
    "print(n2[1,1])\n",
    "# Przecięcia podobnie w kolekcjach\n",
    "print(n2[1,:])\n",
    "print(n2[:,1])\n",
    "print(n2[1,:1])"
   ]
  },
  {
   "cell_type": "markdown",
   "metadata": {},
   "source": [
    "Operacje w tablicach wykonywane są na poszczególnych elementach, np. jak pomnożymy dwie tablice pomnożone zostaną tylko elementy na tych samych pozycjach przez siebie."
   ]
  },
  {
   "cell_type": "code",
   "execution_count": 8,
   "metadata": {},
   "outputs": [
    {
     "name": "stdout",
     "output_type": "stream",
     "text": [
      "a = \n",
      "[[38  5 91]\n",
      " [26 33 65]]\n",
      "2*a = \n",
      "[[ 76  10 182]\n",
      " [ 52  66 130]]\n",
      "a**2 = \n",
      "[[1444   25 8281]\n",
      " [ 676 1089 4225]]\n",
      "a*a = \n",
      "[[1444   25 8281]\n",
      " [ 676 1089 4225]]\n"
     ]
    }
   ],
   "source": [
    "a = np.random.randint(100,size=(2,3))\n",
    "print('a = \\n{}'.format(a))\n",
    "print('2*a = \\n{}'.format(2*a))\n",
    "print('a**2 = \\n{}'.format(a**2))\n",
    "print('a*a = \\n{}'.format(a*a))"
   ]
  },
  {
   "cell_type": "markdown",
   "metadata": {},
   "source": [
    "## Macierze\n",
    "\n",
    "Numpy ma również typ macierzy `matrix`. Jest on bardzo podobny do tablicy ale podstawowe operacje wykonywane są w sposób macierzowy a nie tablicowy."
   ]
  },
  {
   "cell_type": "code",
   "execution_count": 9,
   "metadata": {},
   "outputs": [
    {
     "name": "stdout",
     "output_type": "stream",
     "text": [
      "m*mm = \n",
      "[[19 22]\n",
      " [43 50]]\n",
      "m**2 = \n",
      " [[ 7 10]\n",
      " [15 22]]\n",
      "m*2 = \n",
      " =[[2 4]\n",
      " [6 8]]\n",
      "d = \n",
      " [[3 0]\n",
      " [0 4]]\n",
      "d*m = \n",
      " [[ 3  6]\n",
      " [12 16]]\n"
     ]
    }
   ],
   "source": [
    "m = np.matrix([[1,2], [3,4]])\n",
    "mm = np.matrix([[5,6], [7,8]])\n",
    "\n",
    "print('m*mm = \\n{}'.format(m*mm))\n",
    "print('m**2 = \\n {}'.format(m**2))\n",
    "print('m*2 = \\n ={}'.format(m*2))\n",
    "\n",
    "d = np.diag([3,4])\n",
    "print('d = \\n {}'.format(d))\n",
    "print('d*m = \\n {}'.format(d*m))"
   ]
  },
  {
   "cell_type": "markdown",
   "metadata": {
    "collapsed": true
   },
   "source": [
    "Niemniej, tablice można używać podobnie, ale do mnożenia trzeba wykorzystywać funkcje `dot`:"
   ]
  },
  {
   "cell_type": "code",
   "execution_count": 10,
   "metadata": {},
   "outputs": [
    {
     "name": "stdout",
     "output_type": "stream",
     "text": [
      "a*aa = \n",
      "[[ 5 12]\n",
      " [21 32]]\n",
      "a.dot(aa) = \n",
      "[[19 22]\n",
      " [43 50]]\n",
      "a**2 = \n",
      " [[ 1  4]\n",
      " [ 9 16]]\n",
      "a*2 = \n",
      " =[[2 4]\n",
      " [6 8]]\n"
     ]
    }
   ],
   "source": [
    "a = np.array([[1,2], [3,4]])\n",
    "aa = np.array([[5,6], [7,8]])\n",
    "\n",
    "print('a*aa = \\n{}'.format(a*aa))\n",
    "print('a.dot(aa) = \\n{}'.format(a.dot(aa)))\n",
    "print('a**2 = \\n {}'.format(a**2))\n",
    "print('a*2 = \\n ={}'.format(a*2))"
   ]
  },
  {
   "cell_type": "markdown",
   "metadata": {},
   "source": [
    "Dodatkowo, operacje algebry liniowej można wykonywać zarówno na tablicach jak i macierzach, np:"
   ]
  },
  {
   "cell_type": "code",
   "execution_count": null,
   "metadata": {
    "collapsed": true
   },
   "outputs": [],
   "source": [
    "print('det(m) = {}'.format(np.linalg.det(m)))\n",
    "print('det(a) = {}'.format(np.linalg.det(a)))"
   ]
  },
  {
   "cell_type": "markdown",
   "metadata": {},
   "source": [
    "## Zadanie\n",
    "Mamy liczbę trzycyfrową. Jeżeli od liczny dziesiątek odejmiemy liczbę jedności otrzymamy 6. Jeżeli do liczby dziesiątek dodamy liczbę jedności otrzymamy 10.\n",
    "\n",
    "* znajdź wszystkie liczby trzycyfrowe spełniające ten warunek\n",
    "* znajdź liczby trzycyfrowe podzielne przez 3\n",
    "\n",
    "[Podpowiedź](https://pl.wikipedia.org/wiki/Uk%C5%82ad_r%C3%B3wna%C5%84_liniowych):\n",
    "$$ Ax=B $$\n",
    "$$ x = A^{-1}B $$"
   ]
  },
  {
   "cell_type": "code",
   "execution_count": 36,
   "metadata": {},
   "outputs": [],
   "source": [
    "\"\"\"\n",
    "liczba_trzycyfrowa = 282\n",
    "\n",
    "liczba_dziesiatek = 8\n",
    "liczba_jednosci = 2\n",
    "\n",
    "liczba_dziesiatek - liczba_jednosci = 6\n",
    "liczba_dziesiatek + liczba_jednosci = 10\n",
    "\n",
    "liczba_dziesiatek = liczba_jednosci + 6\n",
    "liczba_dziesiatek + liczba_jednosci = 10\n",
    "\n",
    "liczba_dziesiatek = liczba_jednosci + 6\n",
    "(liczba_jednosci + 6) + liczba_jednosci 10\n",
    "\n",
    "liczba_dziesiatek = liczba_jednosci + 6\n",
    "2 * liczba_jednosci + 6 = 10\n",
    "\n",
    "liczba_dziesiatek = liczba_jednosci + 6\n",
    "liczba_jednosci = 8 / 2\n",
    "\n",
    "liczba_dziesiatek = 2 + 6\n",
    "liczba_jednosci = 2\n",
    "\n",
    "liczba_dziesiatek = 8\n",
    "liczba_jednosci = 2\n",
    "\n",
    "\n",
    "x1 - x2 = 6\n",
    "x1 + x2 = 10\n",
    "\n",
    "x1 = 6 + x2\n",
    "6 + x2 + x2 = 10\n",
    "\n",
    "2 * x2 = 4\n",
    "x2 = 2\n",
    "x1 = 8\n",
    "\"\"\"\n",
    "\n",
    "\n",
    "import numpy as np\n",
    "\n",
    "A = np.matrix([[1, -1], [1, 1]])\n",
    "# matrix([[ 1, -1],\n",
    "#        [ 1,  1]])\n",
    "\n",
    "B = np.matrix([6, 10]).T  # Transpose matrix\n",
    "# matrix([[ 6],\n",
    "#        [10]])\n",
    "\n",
    "x = A**(-1) * B\n",
    "# matrix([[8.],\n",
    "#        [2.]])\n",
    "\n",
    "A*x == B\n",
    "# matrix([[ True],\n",
    "#        [ True]])\n",
    "\n",
    "res1 = np.arange(1, 10)*100 + 10*x[0,0] + 1*x[1,0]\n",
    "# array([182., 282., 382., 482., 582., 682., 782., 882., 982.])\n",
    "\n",
    "res1[res1 % 3 == 0]\n",
    "# array([282., 582., 882.])\n",
    "\n",
    "m = res1 % 3 == 0\n",
    "# array([False,  True, False, False,  True, False, False,  True, False])\n",
    "\n",
    "res1[m]\n",
    "# array([282., 582., 882.])\n",
    "\n",
    "res2 = res1[m]"
   ]
  },
  {
   "cell_type": "code",
   "execution_count": null,
   "metadata": {},
   "outputs": [],
   "source": []
  }
 ],
 "metadata": {
  "anaconda-cloud": {},
  "kernelspec": {
   "display_name": "Python 3",
   "language": "python",
   "name": "python3"
  },
  "language_info": {
   "codemirror_mode": {
    "name": "ipython",
    "version": 3
   },
   "file_extension": ".py",
   "mimetype": "text/x-python",
   "name": "python",
   "nbconvert_exporter": "python",
   "pygments_lexer": "ipython3",
   "version": "3.6.3"
  }
 },
 "nbformat": 4,
 "nbformat_minor": 1
}
