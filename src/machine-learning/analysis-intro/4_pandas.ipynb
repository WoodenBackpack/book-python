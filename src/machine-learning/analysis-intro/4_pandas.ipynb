{
 "cells": [
  {
   "cell_type": "markdown",
   "metadata": {},
   "source": [
    "![](http://sigdelta.com/assets/images/sages-sd-logo.png)\n",
    "\n",
    "# Analiza danych i uczenie maszynowe w Python\n",
    "\n",
    "Autor notebooka: Jakub Nowacki.\n",
    "\n",
    "## Pandas\n",
    "\n",
    "[Pandas](http://pandas.pydata.org/) to biblioteka dostarczająca wygodne w użyciu struktury danych i narzędzia do ich analizy. Inspirowane tutorialem [10 minutes to Pandas](http://pandas.pydata.org/pandas-docs/stable/10min.html). Zobacz też [dokumentację](http://pandas.pydata.org/pandas-docs/stable/index.html) oraz [Pandas Cheat Sheet](https://github.com/pandas-dev/pandas/blob/master/doc/cheatsheet/Pandas_Cheat_Sheet.pdf)\n",
    "\n",
    "Pandas importujemy używając nazwy `pandas`, najlepiej w całości jako pakiet. Często stosowany jest alias `pd`."
   ]
  },
  {
   "cell_type": "code",
   "execution_count": 2,
   "metadata": {},
   "outputs": [],
   "source": [
    "import pandas as pd\n",
    "import numpy as np # Nie wymagane, użyjemy tylko elementów"
   ]
  },
  {
   "cell_type": "markdown",
   "metadata": {},
   "source": [
    "Podstawowymi strukturami danych w Pandas jest Series (seria) i DataFrame (obiekt tabeli); zobacz [dokumentacje](http://pandas.pydata.org/pandas-docs/stable/dsintro.html) po więcej informacji."
   ]
  },
  {
   "cell_type": "markdown",
   "metadata": {},
   "source": [
    "## Series\n",
    "\n",
    "Series jest to jednowymiarowa struktura danych podobna do `ndarray`. Serię tworzymy za pomocą polecenia `Series`; jako dane możemy przekazać wiele kolekcji:"
   ]
  },
  {
   "cell_type": "code",
   "execution_count": 3,
   "metadata": {},
   "outputs": [
    {
     "data": {
      "text/plain": [
       "0    1.0\n",
       "1    3.0\n",
       "2    5.0\n",
       "3    NaN\n",
       "4    6.0\n",
       "5    8.0\n",
       "dtype: float64"
      ]
     },
     "execution_count": 3,
     "metadata": {},
     "output_type": "execute_result"
    }
   ],
   "source": [
    "l = [1,3,5,np.nan,6,8]\n",
    "s = pd.Series(l)\n",
    "s"
   ]
  },
  {
   "cell_type": "markdown",
   "metadata": {},
   "source": [
    "Series posiada indeks, który będzie stworzony automatycznie jeżeli nie został przekazany lub można go stworzyć:"
   ]
  },
  {
   "cell_type": "code",
   "execution_count": 4,
   "metadata": {},
   "outputs": [
    {
     "data": {
      "text/plain": [
       "DatetimeIndex(['2017-01-01', '2017-01-02', '2017-01-03', '2017-01-04',\n",
       "               '2017-01-05', '2017-01-06'],\n",
       "              dtype='datetime64[ns]', freq='D')"
      ]
     },
     "execution_count": 4,
     "metadata": {},
     "output_type": "execute_result"
    }
   ],
   "source": [
    "daty = pd.date_range('20170101', periods=6)\n",
    "daty"
   ]
  },
  {
   "cell_type": "code",
   "execution_count": 5,
   "metadata": {},
   "outputs": [
    {
     "data": {
      "text/plain": [
       "2017-01-01    1.0\n",
       "2017-01-02    3.0\n",
       "2017-01-03    5.0\n",
       "2017-01-04    NaN\n",
       "2017-01-05    6.0\n",
       "2017-01-06    8.0\n",
       "Freq: D, dtype: float64"
      ]
     },
     "execution_count": 5,
     "metadata": {},
     "output_type": "execute_result"
    }
   ],
   "source": [
    "s = pd.Series(l, index=daty)\n",
    "s"
   ]
  },
  {
   "cell_type": "markdown",
   "metadata": {},
   "source": [
    "Niemniej, może to być każda seria która jest przynajmniej tak długa jak dane:"
   ]
  },
  {
   "cell_type": "code",
   "execution_count": 6,
   "metadata": {},
   "outputs": [
    {
     "data": {
      "text/plain": [
       "a    1.016521\n",
       "b   -0.441865\n",
       "c    0.519119\n",
       "d    0.948774\n",
       "e    0.207670\n",
       "dtype: float64"
      ]
     },
     "execution_count": 6,
     "metadata": {},
     "output_type": "execute_result"
    }
   ],
   "source": [
    "s = pd.Series(np.random.randn(5), index=list('abcde'))\n",
    "s"
   ]
  },
  {
   "cell_type": "markdown",
   "metadata": {},
   "source": [
    "Pobierać dane z Series możemy jak w Numpy:"
   ]
  },
  {
   "cell_type": "code",
   "execution_count": 7,
   "metadata": {},
   "outputs": [
    {
     "name": "stdout",
     "output_type": "stream",
     "text": [
      "s[1] = \n",
      "-0.4418648443118965\n",
      "s[2:] = \n",
      "c    0.519119\n",
      "d    0.948774\n",
      "e    0.207670\n",
      "dtype: float64\n",
      "s[1:-2] = \n",
      "b   -0.441865\n",
      "c    0.519119\n",
      "dtype: float64\n"
     ]
    }
   ],
   "source": [
    "print('s[1] = \\n{}'.format(s[1]))\n",
    "print('s[2:] = \\n{}'.format(s[2:]))\n",
    "print('s[1:-2] = \\n{}'.format(s[1:-2]))"
   ]
  },
  {
   "cell_type": "markdown",
   "metadata": {},
   "source": [
    "Możemy też robić to jak w słowniku (lub lepiej), jeżeli indeks na to pozwala:"
   ]
  },
  {
   "cell_type": "code",
   "execution_count": 8,
   "metadata": {},
   "outputs": [
    {
     "name": "stdout",
     "output_type": "stream",
     "text": [
      "s[\"b\"] = \n",
      "-0.4418648443118965\n",
      "s[\"c\":] = \n",
      "c    0.519119\n",
      "d    0.948774\n",
      "e    0.207670\n",
      "dtype: float64\n",
      "s[\"b\":\"c\"] = \n",
      "b   -0.441865\n",
      "c    0.519119\n",
      "dtype: float64\n"
     ]
    }
   ],
   "source": [
    "print('s[\"b\"] = \\n{}'.format(s[\"b\"]))\n",
    "print('s[\"c\":] = \\n{}'.format(s[\"c\":]))\n",
    "print('s[\"b\":\"c\"] = \\n{}'.format(s[\"b\":\"c\"]))"
   ]
  },
  {
   "cell_type": "markdown",
   "metadata": {},
   "source": [
    "Można też wykonywać operacje na serii:"
   ]
  },
  {
   "cell_type": "code",
   "execution_count": 9,
   "metadata": {},
   "outputs": [
    {
     "name": "stdout",
     "output_type": "stream",
     "text": [
      "s*5 = \n",
      "a    5.082606\n",
      "b   -2.209324\n",
      "c    2.595593\n",
      "d    4.743869\n",
      "e    1.038348\n",
      "dtype: float64\n",
      "s**3 = \n",
      "a    1.050387\n",
      "b   -0.086272\n",
      "c    0.139894\n",
      "d    0.854059\n",
      "e    0.008956\n",
      "dtype: float64\n",
      "s*s = \n",
      "a    1.033315\n",
      "b    0.195245\n",
      "c    0.269484\n",
      "d    0.900172\n",
      "e    0.043127\n",
      "dtype: float64\n",
      "s+s = \n",
      "a    2.033042\n",
      "b   -0.883730\n",
      "c    1.038237\n",
      "d    1.897547\n",
      "e    0.415339\n",
      "dtype: float64\n"
     ]
    }
   ],
   "source": [
    "print('s*5 = \\n{}'.format(s*5))\n",
    "print('s**3 = \\n{}'.format(s**3))\n",
    "print('s*s = \\n{}'.format(s*s))\n",
    "print('s+s = \\n{}'.format(s+s))"
   ]
  },
  {
   "cell_type": "markdown",
   "metadata": {},
   "source": [
    "## DataFrame\n",
    "\n",
    "DataFrame jest obiektem dwuwymiarowym, który w obsłudze przypomina tabelę. Każda kolumna ma nazwę i jest serią danych (Series). Wszystkie kolumny mają wspólny indeks. Operacje można wykonywać na całych kolumnach lub wierszach. DataFrame tworzymy operacją `DataFrame`:"
   ]
  },
  {
   "cell_type": "code",
   "execution_count": 10,
   "metadata": {},
   "outputs": [
    {
     "data": {
      "text/html": [
       "<div>\n",
       "<style scoped>\n",
       "    .dataframe tbody tr th:only-of-type {\n",
       "        vertical-align: middle;\n",
       "    }\n",
       "\n",
       "    .dataframe tbody tr th {\n",
       "        vertical-align: top;\n",
       "    }\n",
       "\n",
       "    .dataframe thead th {\n",
       "        text-align: right;\n",
       "    }\n",
       "</style>\n",
       "<table border=\"1\" class=\"dataframe\">\n",
       "  <thead>\n",
       "    <tr style=\"text-align: right;\">\n",
       "      <th></th>\n",
       "      <th>A</th>\n",
       "      <th>B</th>\n",
       "      <th>C</th>\n",
       "      <th>D</th>\n",
       "    </tr>\n",
       "  </thead>\n",
       "  <tbody>\n",
       "    <tr>\n",
       "      <th>2017-01-01</th>\n",
       "      <td>0.131926</td>\n",
       "      <td>-1.825204</td>\n",
       "      <td>-1.909562</td>\n",
       "      <td>1.274718</td>\n",
       "    </tr>\n",
       "    <tr>\n",
       "      <th>2017-01-02</th>\n",
       "      <td>0.084471</td>\n",
       "      <td>-0.932586</td>\n",
       "      <td>0.160637</td>\n",
       "      <td>-0.275183</td>\n",
       "    </tr>\n",
       "    <tr>\n",
       "      <th>2017-01-03</th>\n",
       "      <td>-1.308835</td>\n",
       "      <td>-0.285436</td>\n",
       "      <td>-0.757591</td>\n",
       "      <td>-0.042493</td>\n",
       "    </tr>\n",
       "    <tr>\n",
       "      <th>2017-01-04</th>\n",
       "      <td>-0.974425</td>\n",
       "      <td>1.327082</td>\n",
       "      <td>-0.435516</td>\n",
       "      <td>1.328745</td>\n",
       "    </tr>\n",
       "    <tr>\n",
       "      <th>2017-01-05</th>\n",
       "      <td>0.589973</td>\n",
       "      <td>0.748417</td>\n",
       "      <td>-1.680741</td>\n",
       "      <td>0.510512</td>\n",
       "    </tr>\n",
       "    <tr>\n",
       "      <th>2017-01-06</th>\n",
       "      <td>1.361922</td>\n",
       "      <td>-0.827940</td>\n",
       "      <td>0.400024</td>\n",
       "      <td>0.047176</td>\n",
       "    </tr>\n",
       "  </tbody>\n",
       "</table>\n",
       "</div>"
      ],
      "text/plain": [
       "                   A         B         C         D\n",
       "2017-01-01  0.131926 -1.825204 -1.909562  1.274718\n",
       "2017-01-02  0.084471 -0.932586  0.160637 -0.275183\n",
       "2017-01-03 -1.308835 -0.285436 -0.757591 -0.042493\n",
       "2017-01-04 -0.974425  1.327082 -0.435516  1.328745\n",
       "2017-01-05  0.589973  0.748417 -1.680741  0.510512\n",
       "2017-01-06  1.361922 -0.827940  0.400024  0.047176"
      ]
     },
     "execution_count": 10,
     "metadata": {},
     "output_type": "execute_result"
    }
   ],
   "source": [
    "df = pd.DataFrame(np.random.randn(6,4), index=daty, columns=list('ABCD'))\n",
    "df"
   ]
  },
  {
   "cell_type": "markdown",
   "metadata": {},
   "source": [
    "Można też przekazać słownik:"
   ]
  },
  {
   "cell_type": "code",
   "execution_count": 15,
   "metadata": {},
   "outputs": [
    {
     "data": {
      "text/plain": [
       "0     test\n",
       "1    train\n",
       "2     test\n",
       "3    train\n",
       "Name: E, dtype: category\n",
       "Categories (2, object): [test, train]"
      ]
     },
     "execution_count": 15,
     "metadata": {},
     "output_type": "execute_result"
    }
   ],
   "source": [
    "df2 = pd.DataFrame({ 'A' : 1.,\n",
    "                     'B' : pd.Timestamp('20130102'),\n",
    "                     'C' : pd.Series(1,index=list(range(4)),dtype='float32'),\n",
    "                     'D' : np.array([3] * 4,dtype='int32'),\n",
    "                     'E' : pd.Categorical([\"test\",\"train\",\"test\",\"train\"]),\n",
    "                     'F' : 'foo' })\n",
    "df2.E"
   ]
  },
  {
   "cell_type": "markdown",
   "metadata": {},
   "source": [
    "Albo kolekcji słowników:"
   ]
  },
  {
   "cell_type": "code",
   "execution_count": 14,
   "metadata": {
    "scrolled": true
   },
   "outputs": [
    {
     "data": {
      "text/plain": [
       "0    1.0\n",
       "1    NaN\n",
       "Name: A, dtype: float64"
      ]
     },
     "execution_count": 14,
     "metadata": {},
     "output_type": "execute_result"
    }
   ],
   "source": [
    "df3 = pd.DataFrame([{'A': 1, 'B': 2}, {'C': 3}])\n",
    "df3.A"
   ]
  },
  {
   "cell_type": "markdown",
   "metadata": {},
   "source": [
    "Istnieje też wiele innych metod tworzenia i czytania DataFrame, które zostały opicane w [dokumentacji](http://pandas.pydata.org/pandas-docs/stable/dsintro.html).\n",
    "\n",
    "Pobierać dane można jak w serii i innych kolekcjach Pythonowych:"
   ]
  },
  {
   "cell_type": "code",
   "execution_count": 16,
   "metadata": {},
   "outputs": [
    {
     "name": "stdout",
     "output_type": "stream",
     "text": [
      "df['A'] = \n",
      "2017-01-01    0.131926\n",
      "2017-01-02    0.084471\n",
      "2017-01-03   -1.308835\n",
      "2017-01-04   -0.974425\n",
      "2017-01-05    0.589973\n",
      "2017-01-06    1.361922\n",
      "Freq: D, Name: A, dtype: float64\n",
      "df[1:3] = \n",
      "                   A         B         C         D\n",
      "2017-01-02  0.084471 -0.932586  0.160637 -0.275183\n",
      "2017-01-03 -1.308835 -0.285436 -0.757591 -0.042493\n"
     ]
    }
   ],
   "source": [
    "print(\"df['A'] = \\n{}\".format(df['A'])) # Kolumna\n",
    "print(\"df[1:3] = \\n{}\".format(df[1:3]))"
   ]
  },
  {
   "cell_type": "markdown",
   "metadata": {},
   "source": [
    "Niemniej zalecane jest używanie zoptymalizowanych funkcji Pandas:"
   ]
  },
  {
   "cell_type": "code",
   "execution_count": 19,
   "metadata": {},
   "outputs": [
    {
     "data": {
      "text/html": [
       "<div>\n",
       "<style scoped>\n",
       "    .dataframe tbody tr th:only-of-type {\n",
       "        vertical-align: middle;\n",
       "    }\n",
       "\n",
       "    .dataframe tbody tr th {\n",
       "        vertical-align: top;\n",
       "    }\n",
       "\n",
       "    .dataframe thead th {\n",
       "        text-align: right;\n",
       "    }\n",
       "</style>\n",
       "<table border=\"1\" class=\"dataframe\">\n",
       "  <thead>\n",
       "    <tr style=\"text-align: right;\">\n",
       "      <th></th>\n",
       "      <th>A</th>\n",
       "      <th>B</th>\n",
       "    </tr>\n",
       "  </thead>\n",
       "  <tbody>\n",
       "    <tr>\n",
       "      <th>0</th>\n",
       "      <td>1.0</td>\n",
       "      <td>2.0</td>\n",
       "    </tr>\n",
       "    <tr>\n",
       "      <th>1</th>\n",
       "      <td>NaN</td>\n",
       "      <td>NaN</td>\n",
       "    </tr>\n",
       "  </tbody>\n",
       "</table>\n",
       "</div>"
      ],
      "text/plain": [
       "     A    B\n",
       "0  1.0  2.0\n",
       "1  NaN  NaN"
      ]
     },
     "execution_count": 19,
     "metadata": {},
     "output_type": "execute_result"
    }
   ],
   "source": [
    "df3[['A', 'B']]"
   ]
  },
  {
   "cell_type": "code",
   "execution_count": 18,
   "metadata": {},
   "outputs": [
    {
     "name": "stdout",
     "output_type": "stream",
     "text": [
      "df.loc[:,'A']) = \n",
      "2017-01-01    0.131926\n",
      "2017-01-02    0.084471\n",
      "2017-01-03   -1.308835\n",
      "2017-01-04   -0.974425\n",
      "2017-01-05    0.589973\n",
      "2017-01-06    1.361922\n",
      "Freq: D, Name: A, dtype: float64\n",
      "df.loc[daty[0],'A'] = \n",
      "0.13192554022073613\n",
      "df.at[daty[0],'A'] = \n",
      "0.13192554022073613\n",
      "df.iloc[:,0]] = \n",
      "2017-01-01    0.131926\n",
      "2017-01-02    0.084471\n",
      "2017-01-03   -1.308835\n",
      "2017-01-04   -0.974425\n",
      "2017-01-05    0.589973\n",
      "2017-01-06    1.361922\n",
      "Freq: D, Name: A, dtype: float64\n",
      "df.iloc[0,0] = \n",
      "0.13192554022073613\n",
      "df.iat[0,0] = \n",
      "0.13192554022073613\n",
      "df.ix[0,0] = \n",
      "0.13192554022073613\n"
     ]
    }
   ],
   "source": [
    "print(\"df.loc[:,'A']) = \\n{}\".format(df.loc[:,'A'])) \n",
    "print(\"df.loc[daty[0],'A'] = \\n{}\".format(df.loc[daty[0],'A'])) \n",
    "print(\"df.at[daty[0],'A'] = \\n{}\".format(df.at[daty[0],'A'])) # Pobiera skalar szybciej\n",
    "print(\"df.iloc[:,0]] = \\n{}\".format(df.iloc[:,0])) \n",
    "print(\"df.iloc[0,0] = \\n{}\".format(df.iloc[0,0])) \n",
    "print(\"df.iat[0,0] = \\n{}\".format(df.iat[0,0])) # Pobiera skalar szybciej\n",
    "print(\"df.ix[0,0] = \\n{}\".format(df.iat[0,0]))"
   ]
  },
  {
   "cell_type": "markdown",
   "metadata": {},
   "source": [
    "Można też używać wyrażeń boolowskich do filtrowania wyników:"
   ]
  },
  {
   "cell_type": "code",
   "execution_count": 20,
   "metadata": {},
   "outputs": [
    {
     "data": {
      "text/html": [
       "<div>\n",
       "<style scoped>\n",
       "    .dataframe tbody tr th:only-of-type {\n",
       "        vertical-align: middle;\n",
       "    }\n",
       "\n",
       "    .dataframe tbody tr th {\n",
       "        vertical-align: top;\n",
       "    }\n",
       "\n",
       "    .dataframe thead th {\n",
       "        text-align: right;\n",
       "    }\n",
       "</style>\n",
       "<table border=\"1\" class=\"dataframe\">\n",
       "  <thead>\n",
       "    <tr style=\"text-align: right;\">\n",
       "      <th></th>\n",
       "      <th>A</th>\n",
       "      <th>B</th>\n",
       "      <th>C</th>\n",
       "      <th>D</th>\n",
       "    </tr>\n",
       "  </thead>\n",
       "  <tbody>\n",
       "    <tr>\n",
       "      <th>2017-01-04</th>\n",
       "      <td>-0.974425</td>\n",
       "      <td>1.327082</td>\n",
       "      <td>-0.435516</td>\n",
       "      <td>1.328745</td>\n",
       "    </tr>\n",
       "    <tr>\n",
       "      <th>2017-01-05</th>\n",
       "      <td>0.589973</td>\n",
       "      <td>0.748417</td>\n",
       "      <td>-1.680741</td>\n",
       "      <td>0.510512</td>\n",
       "    </tr>\n",
       "  </tbody>\n",
       "</table>\n",
       "</div>"
      ],
      "text/plain": [
       "                   A         B         C         D\n",
       "2017-01-04 -0.974425  1.327082 -0.435516  1.328745\n",
       "2017-01-05  0.589973  0.748417 -1.680741  0.510512"
      ]
     },
     "execution_count": 20,
     "metadata": {},
     "output_type": "execute_result"
    }
   ],
   "source": [
    "df[df.B > 0.5]"
   ]
  },
  {
   "cell_type": "markdown",
   "metadata": {},
   "source": [
    "Jest też dostęp do poszczególnych elementów takich jak:"
   ]
  },
  {
   "cell_type": "code",
   "execution_count": 21,
   "metadata": {},
   "outputs": [
    {
     "name": "stdout",
     "output_type": "stream",
     "text": [
      "Indeks:\n",
      "DatetimeIndex(['2017-01-01', '2017-01-02', '2017-01-03', '2017-01-04',\n",
      "               '2017-01-05', '2017-01-06'],\n",
      "              dtype='datetime64[ns]', freq='D')\n",
      "Kolumny:\n",
      "Index(['A', 'B', 'C', 'D'], dtype='object')\n",
      "Początek:\n",
      "                   A         B         C         D\n",
      "2017-01-01  0.131926 -1.825204 -1.909562  1.274718\n",
      "2017-01-02  0.084471 -0.932586  0.160637 -0.275183\n",
      "Koniec:\n",
      "                   A         B         C         D\n",
      "2017-01-04 -0.974425  1.327082 -0.435516  1.328745\n",
      "2017-01-05  0.589973  0.748417 -1.680741  0.510512\n",
      "2017-01-06  1.361922 -0.827940  0.400024  0.047176\n"
     ]
    }
   ],
   "source": [
    "print('Indeks:\\n{}'.format(df.index))\n",
    "print('Kolumny:\\n{}'.format(df.columns))\n",
    "print('Początek:\\n{}'.format(df.head(2)))\n",
    "print('Koniec:\\n{}'.format(df.tail(3)))"
   ]
  },
  {
   "cell_type": "markdown",
   "metadata": {},
   "source": [
    "Dane można też sortować po indeksie:"
   ]
  },
  {
   "cell_type": "code",
   "execution_count": 22,
   "metadata": {},
   "outputs": [
    {
     "data": {
      "text/html": [
       "<div>\n",
       "<style scoped>\n",
       "    .dataframe tbody tr th:only-of-type {\n",
       "        vertical-align: middle;\n",
       "    }\n",
       "\n",
       "    .dataframe tbody tr th {\n",
       "        vertical-align: top;\n",
       "    }\n",
       "\n",
       "    .dataframe thead th {\n",
       "        text-align: right;\n",
       "    }\n",
       "</style>\n",
       "<table border=\"1\" class=\"dataframe\">\n",
       "  <thead>\n",
       "    <tr style=\"text-align: right;\">\n",
       "      <th></th>\n",
       "      <th>A</th>\n",
       "      <th>B</th>\n",
       "      <th>C</th>\n",
       "      <th>D</th>\n",
       "    </tr>\n",
       "  </thead>\n",
       "  <tbody>\n",
       "    <tr>\n",
       "      <th>2017-01-06</th>\n",
       "      <td>1.361922</td>\n",
       "      <td>-0.827940</td>\n",
       "      <td>0.400024</td>\n",
       "      <td>0.047176</td>\n",
       "    </tr>\n",
       "    <tr>\n",
       "      <th>2017-01-05</th>\n",
       "      <td>0.589973</td>\n",
       "      <td>0.748417</td>\n",
       "      <td>-1.680741</td>\n",
       "      <td>0.510512</td>\n",
       "    </tr>\n",
       "    <tr>\n",
       "      <th>2017-01-04</th>\n",
       "      <td>-0.974425</td>\n",
       "      <td>1.327082</td>\n",
       "      <td>-0.435516</td>\n",
       "      <td>1.328745</td>\n",
       "    </tr>\n",
       "    <tr>\n",
       "      <th>2017-01-03</th>\n",
       "      <td>-1.308835</td>\n",
       "      <td>-0.285436</td>\n",
       "      <td>-0.757591</td>\n",
       "      <td>-0.042493</td>\n",
       "    </tr>\n",
       "    <tr>\n",
       "      <th>2017-01-02</th>\n",
       "      <td>0.084471</td>\n",
       "      <td>-0.932586</td>\n",
       "      <td>0.160637</td>\n",
       "      <td>-0.275183</td>\n",
       "    </tr>\n",
       "    <tr>\n",
       "      <th>2017-01-01</th>\n",
       "      <td>0.131926</td>\n",
       "      <td>-1.825204</td>\n",
       "      <td>-1.909562</td>\n",
       "      <td>1.274718</td>\n",
       "    </tr>\n",
       "  </tbody>\n",
       "</table>\n",
       "</div>"
      ],
      "text/plain": [
       "                   A         B         C         D\n",
       "2017-01-06  1.361922 -0.827940  0.400024  0.047176\n",
       "2017-01-05  0.589973  0.748417 -1.680741  0.510512\n",
       "2017-01-04 -0.974425  1.327082 -0.435516  1.328745\n",
       "2017-01-03 -1.308835 -0.285436 -0.757591 -0.042493\n",
       "2017-01-02  0.084471 -0.932586  0.160637 -0.275183\n",
       "2017-01-01  0.131926 -1.825204 -1.909562  1.274718"
      ]
     },
     "execution_count": 22,
     "metadata": {},
     "output_type": "execute_result"
    }
   ],
   "source": [
    "df.sort_index(ascending=False)"
   ]
  },
  {
   "cell_type": "markdown",
   "metadata": {},
   "source": [
    "Po kolumnach:"
   ]
  },
  {
   "cell_type": "code",
   "execution_count": 23,
   "metadata": {},
   "outputs": [
    {
     "data": {
      "text/html": [
       "<div>\n",
       "<style scoped>\n",
       "    .dataframe tbody tr th:only-of-type {\n",
       "        vertical-align: middle;\n",
       "    }\n",
       "\n",
       "    .dataframe tbody tr th {\n",
       "        vertical-align: top;\n",
       "    }\n",
       "\n",
       "    .dataframe thead th {\n",
       "        text-align: right;\n",
       "    }\n",
       "</style>\n",
       "<table border=\"1\" class=\"dataframe\">\n",
       "  <thead>\n",
       "    <tr style=\"text-align: right;\">\n",
       "      <th></th>\n",
       "      <th>D</th>\n",
       "      <th>C</th>\n",
       "      <th>B</th>\n",
       "      <th>A</th>\n",
       "    </tr>\n",
       "  </thead>\n",
       "  <tbody>\n",
       "    <tr>\n",
       "      <th>2017-01-01</th>\n",
       "      <td>1.274718</td>\n",
       "      <td>-1.909562</td>\n",
       "      <td>-1.825204</td>\n",
       "      <td>0.131926</td>\n",
       "    </tr>\n",
       "    <tr>\n",
       "      <th>2017-01-02</th>\n",
       "      <td>-0.275183</td>\n",
       "      <td>0.160637</td>\n",
       "      <td>-0.932586</td>\n",
       "      <td>0.084471</td>\n",
       "    </tr>\n",
       "    <tr>\n",
       "      <th>2017-01-03</th>\n",
       "      <td>-0.042493</td>\n",
       "      <td>-0.757591</td>\n",
       "      <td>-0.285436</td>\n",
       "      <td>-1.308835</td>\n",
       "    </tr>\n",
       "    <tr>\n",
       "      <th>2017-01-04</th>\n",
       "      <td>1.328745</td>\n",
       "      <td>-0.435516</td>\n",
       "      <td>1.327082</td>\n",
       "      <td>-0.974425</td>\n",
       "    </tr>\n",
       "    <tr>\n",
       "      <th>2017-01-05</th>\n",
       "      <td>0.510512</td>\n",
       "      <td>-1.680741</td>\n",
       "      <td>0.748417</td>\n",
       "      <td>0.589973</td>\n",
       "    </tr>\n",
       "    <tr>\n",
       "      <th>2017-01-06</th>\n",
       "      <td>0.047176</td>\n",
       "      <td>0.400024</td>\n",
       "      <td>-0.827940</td>\n",
       "      <td>1.361922</td>\n",
       "    </tr>\n",
       "  </tbody>\n",
       "</table>\n",
       "</div>"
      ],
      "text/plain": [
       "                   D         C         B         A\n",
       "2017-01-01  1.274718 -1.909562 -1.825204  0.131926\n",
       "2017-01-02 -0.275183  0.160637 -0.932586  0.084471\n",
       "2017-01-03 -0.042493 -0.757591 -0.285436 -1.308835\n",
       "2017-01-04  1.328745 -0.435516  1.327082 -0.974425\n",
       "2017-01-05  0.510512 -1.680741  0.748417  0.589973\n",
       "2017-01-06  0.047176  0.400024 -0.827940  1.361922"
      ]
     },
     "execution_count": 23,
     "metadata": {},
     "output_type": "execute_result"
    }
   ],
   "source": [
    "df.sort_index(axis=1, ascending=False)"
   ]
  },
  {
   "cell_type": "markdown",
   "metadata": {},
   "source": [
    "Lub po wartościach:"
   ]
  },
  {
   "cell_type": "code",
   "execution_count": 26,
   "metadata": {},
   "outputs": [
    {
     "data": {
      "text/html": [
       "<div>\n",
       "<style scoped>\n",
       "    .dataframe tbody tr th:only-of-type {\n",
       "        vertical-align: middle;\n",
       "    }\n",
       "\n",
       "    .dataframe tbody tr th {\n",
       "        vertical-align: top;\n",
       "    }\n",
       "\n",
       "    .dataframe thead th {\n",
       "        text-align: right;\n",
       "    }\n",
       "</style>\n",
       "<table border=\"1\" class=\"dataframe\">\n",
       "  <thead>\n",
       "    <tr style=\"text-align: right;\">\n",
       "      <th></th>\n",
       "      <th>A</th>\n",
       "      <th>B</th>\n",
       "      <th>C</th>\n",
       "      <th>D</th>\n",
       "    </tr>\n",
       "  </thead>\n",
       "  <tbody>\n",
       "    <tr>\n",
       "      <th>2017-01-01</th>\n",
       "      <td>0.131926</td>\n",
       "      <td>-1.825204</td>\n",
       "      <td>-1.909562</td>\n",
       "      <td>1.274718</td>\n",
       "    </tr>\n",
       "    <tr>\n",
       "      <th>2017-01-02</th>\n",
       "      <td>0.084471</td>\n",
       "      <td>-0.932586</td>\n",
       "      <td>0.160637</td>\n",
       "      <td>-0.275183</td>\n",
       "    </tr>\n",
       "    <tr>\n",
       "      <th>2017-01-06</th>\n",
       "      <td>1.361922</td>\n",
       "      <td>-0.827940</td>\n",
       "      <td>0.400024</td>\n",
       "      <td>0.047176</td>\n",
       "    </tr>\n",
       "    <tr>\n",
       "      <th>2017-01-03</th>\n",
       "      <td>-1.308835</td>\n",
       "      <td>-0.285436</td>\n",
       "      <td>-0.757591</td>\n",
       "      <td>-0.042493</td>\n",
       "    </tr>\n",
       "    <tr>\n",
       "      <th>2017-01-05</th>\n",
       "      <td>0.589973</td>\n",
       "      <td>0.748417</td>\n",
       "      <td>-1.680741</td>\n",
       "      <td>0.510512</td>\n",
       "    </tr>\n",
       "    <tr>\n",
       "      <th>2017-01-04</th>\n",
       "      <td>-0.974425</td>\n",
       "      <td>1.327082</td>\n",
       "      <td>-0.435516</td>\n",
       "      <td>1.328745</td>\n",
       "    </tr>\n",
       "  </tbody>\n",
       "</table>\n",
       "</div>"
      ],
      "text/plain": [
       "                   A         B         C         D\n",
       "2017-01-01  0.131926 -1.825204 -1.909562  1.274718\n",
       "2017-01-02  0.084471 -0.932586  0.160637 -0.275183\n",
       "2017-01-06  1.361922 -0.827940  0.400024  0.047176\n",
       "2017-01-03 -1.308835 -0.285436 -0.757591 -0.042493\n",
       "2017-01-05  0.589973  0.748417 -1.680741  0.510512\n",
       "2017-01-04 -0.974425  1.327082 -0.435516  1.328745"
      ]
     },
     "execution_count": 26,
     "metadata": {},
     "output_type": "execute_result"
    }
   ],
   "source": [
    "df.sort_values(['B', 'C'])"
   ]
  },
  {
   "cell_type": "markdown",
   "metadata": {},
   "source": [
    "Można też tabelę transponować:"
   ]
  },
  {
   "cell_type": "code",
   "execution_count": 27,
   "metadata": {},
   "outputs": [
    {
     "data": {
      "text/html": [
       "<div>\n",
       "<style scoped>\n",
       "    .dataframe tbody tr th:only-of-type {\n",
       "        vertical-align: middle;\n",
       "    }\n",
       "\n",
       "    .dataframe tbody tr th {\n",
       "        vertical-align: top;\n",
       "    }\n",
       "\n",
       "    .dataframe thead th {\n",
       "        text-align: right;\n",
       "    }\n",
       "</style>\n",
       "<table border=\"1\" class=\"dataframe\">\n",
       "  <thead>\n",
       "    <tr style=\"text-align: right;\">\n",
       "      <th></th>\n",
       "      <th>2017-01-01 00:00:00</th>\n",
       "      <th>2017-01-02 00:00:00</th>\n",
       "      <th>2017-01-03 00:00:00</th>\n",
       "      <th>2017-01-04 00:00:00</th>\n",
       "      <th>2017-01-05 00:00:00</th>\n",
       "      <th>2017-01-06 00:00:00</th>\n",
       "    </tr>\n",
       "  </thead>\n",
       "  <tbody>\n",
       "    <tr>\n",
       "      <th>A</th>\n",
       "      <td>0.131926</td>\n",
       "      <td>0.084471</td>\n",
       "      <td>-1.308835</td>\n",
       "      <td>-0.974425</td>\n",
       "      <td>0.589973</td>\n",
       "      <td>1.361922</td>\n",
       "    </tr>\n",
       "    <tr>\n",
       "      <th>B</th>\n",
       "      <td>-1.825204</td>\n",
       "      <td>-0.932586</td>\n",
       "      <td>-0.285436</td>\n",
       "      <td>1.327082</td>\n",
       "      <td>0.748417</td>\n",
       "      <td>-0.827940</td>\n",
       "    </tr>\n",
       "    <tr>\n",
       "      <th>C</th>\n",
       "      <td>-1.909562</td>\n",
       "      <td>0.160637</td>\n",
       "      <td>-0.757591</td>\n",
       "      <td>-0.435516</td>\n",
       "      <td>-1.680741</td>\n",
       "      <td>0.400024</td>\n",
       "    </tr>\n",
       "    <tr>\n",
       "      <th>D</th>\n",
       "      <td>1.274718</td>\n",
       "      <td>-0.275183</td>\n",
       "      <td>-0.042493</td>\n",
       "      <td>1.328745</td>\n",
       "      <td>0.510512</td>\n",
       "      <td>0.047176</td>\n",
       "    </tr>\n",
       "  </tbody>\n",
       "</table>\n",
       "</div>"
      ],
      "text/plain": [
       "   2017-01-01  2017-01-02  2017-01-03  2017-01-04  2017-01-05  2017-01-06\n",
       "A    0.131926    0.084471   -1.308835   -0.974425    0.589973    1.361922\n",
       "B   -1.825204   -0.932586   -0.285436    1.327082    0.748417   -0.827940\n",
       "C   -1.909562    0.160637   -0.757591   -0.435516   -1.680741    0.400024\n",
       "D    1.274718   -0.275183   -0.042493    1.328745    0.510512    0.047176"
      ]
     },
     "execution_count": 27,
     "metadata": {},
     "output_type": "execute_result"
    }
   ],
   "source": [
    "df.T"
   ]
  },
  {
   "cell_type": "markdown",
   "metadata": {},
   "source": [
    "Nową kolumnę dodajemy przez przypisanie:"
   ]
  },
  {
   "cell_type": "code",
   "execution_count": 28,
   "metadata": {},
   "outputs": [
    {
     "data": {
      "text/html": [
       "<div>\n",
       "<style scoped>\n",
       "    .dataframe tbody tr th:only-of-type {\n",
       "        vertical-align: middle;\n",
       "    }\n",
       "\n",
       "    .dataframe tbody tr th {\n",
       "        vertical-align: top;\n",
       "    }\n",
       "\n",
       "    .dataframe thead th {\n",
       "        text-align: right;\n",
       "    }\n",
       "</style>\n",
       "<table border=\"1\" class=\"dataframe\">\n",
       "  <thead>\n",
       "    <tr style=\"text-align: right;\">\n",
       "      <th></th>\n",
       "      <th>A</th>\n",
       "      <th>B</th>\n",
       "      <th>C</th>\n",
       "      <th>Z</th>\n",
       "    </tr>\n",
       "  </thead>\n",
       "  <tbody>\n",
       "    <tr>\n",
       "      <th>0</th>\n",
       "      <td>1.0</td>\n",
       "      <td>2.0</td>\n",
       "      <td>NaN</td>\n",
       "      <td>aa</td>\n",
       "    </tr>\n",
       "    <tr>\n",
       "      <th>1</th>\n",
       "      <td>NaN</td>\n",
       "      <td>NaN</td>\n",
       "      <td>3.0</td>\n",
       "      <td>bb</td>\n",
       "    </tr>\n",
       "  </tbody>\n",
       "</table>\n",
       "</div>"
      ],
      "text/plain": [
       "     A    B    C   Z\n",
       "0  1.0  2.0  NaN  aa\n",
       "1  NaN  NaN  3.0  bb"
      ]
     },
     "execution_count": 28,
     "metadata": {},
     "output_type": "execute_result"
    }
   ],
   "source": [
    "df3['Z'] = ['aa', 'bb']\n",
    "df3"
   ]
  },
  {
   "cell_type": "markdown",
   "metadata": {},
   "source": [
    "Zmiana pojedynczej wartości może być również zrobiona przez przypisanie; używamy wtedy komend lokalizacyjnych, np:"
   ]
  },
  {
   "cell_type": "code",
   "execution_count": 30,
   "metadata": {},
   "outputs": [
    {
     "data": {
      "text/html": [
       "<div>\n",
       "<style scoped>\n",
       "    .dataframe tbody tr th:only-of-type {\n",
       "        vertical-align: middle;\n",
       "    }\n",
       "\n",
       "    .dataframe tbody tr th {\n",
       "        vertical-align: top;\n",
       "    }\n",
       "\n",
       "    .dataframe thead th {\n",
       "        text-align: right;\n",
       "    }\n",
       "</style>\n",
       "<table border=\"1\" class=\"dataframe\">\n",
       "  <thead>\n",
       "    <tr style=\"text-align: right;\">\n",
       "      <th></th>\n",
       "      <th>A</th>\n",
       "      <th>B</th>\n",
       "      <th>C</th>\n",
       "      <th>Z</th>\n",
       "    </tr>\n",
       "  </thead>\n",
       "  <tbody>\n",
       "    <tr>\n",
       "      <th>0</th>\n",
       "      <td>1.0</td>\n",
       "      <td>2.0</td>\n",
       "      <td>33.0</td>\n",
       "      <td>aa</td>\n",
       "    </tr>\n",
       "    <tr>\n",
       "      <th>1</th>\n",
       "      <td>NaN</td>\n",
       "      <td>NaN</td>\n",
       "      <td>3.0</td>\n",
       "      <td>bb</td>\n",
       "    </tr>\n",
       "  </tbody>\n",
       "</table>\n",
       "</div>"
      ],
      "text/plain": [
       "     A    B     C   Z\n",
       "0  1.0  2.0  33.0  aa\n",
       "1  NaN  NaN   3.0  bb"
      ]
     },
     "execution_count": 30,
     "metadata": {},
     "output_type": "execute_result"
    }
   ],
   "source": [
    "df3.at[0, 'C'] = 33\n",
    "df3"
   ]
  },
  {
   "cell_type": "code",
   "execution_count": null,
   "metadata": {
    "collapsed": true
   },
   "outputs": [],
   "source": [
    "df3.at[2,:] = np.nan\n",
    "df3"
   ]
  },
  {
   "cell_type": "markdown",
   "metadata": {},
   "source": [
    "Pandas posiada również metody radzenia sobie z brakującymi danymi:"
   ]
  },
  {
   "cell_type": "code",
   "execution_count": null,
   "metadata": {
    "collapsed": true
   },
   "outputs": [],
   "source": [
    "df3.dropna(how='any')"
   ]
  },
  {
   "cell_type": "code",
   "execution_count": null,
   "metadata": {
    "collapsed": true
   },
   "outputs": [],
   "source": [
    "df3.dropna(how='all')"
   ]
  },
  {
   "cell_type": "code",
   "execution_count": null,
   "metadata": {
    "collapsed": true
   },
   "outputs": [],
   "source": [
    "df3.fillna(-100)"
   ]
  },
  {
   "cell_type": "markdown",
   "metadata": {},
   "source": [
    "Dostępne są również funkcje statystyczne, np:"
   ]
  },
  {
   "cell_type": "code",
   "execution_count": 31,
   "metadata": {},
   "outputs": [
    {
     "data": {
      "text/html": [
       "<div>\n",
       "<style scoped>\n",
       "    .dataframe tbody tr th:only-of-type {\n",
       "        vertical-align: middle;\n",
       "    }\n",
       "\n",
       "    .dataframe tbody tr th {\n",
       "        vertical-align: top;\n",
       "    }\n",
       "\n",
       "    .dataframe thead th {\n",
       "        text-align: right;\n",
       "    }\n",
       "</style>\n",
       "<table border=\"1\" class=\"dataframe\">\n",
       "  <thead>\n",
       "    <tr style=\"text-align: right;\">\n",
       "      <th></th>\n",
       "      <th>A</th>\n",
       "      <th>B</th>\n",
       "      <th>C</th>\n",
       "      <th>D</th>\n",
       "    </tr>\n",
       "  </thead>\n",
       "  <tbody>\n",
       "    <tr>\n",
       "      <th>count</th>\n",
       "      <td>6.000000</td>\n",
       "      <td>6.000000</td>\n",
       "      <td>6.000000</td>\n",
       "      <td>6.000000</td>\n",
       "    </tr>\n",
       "    <tr>\n",
       "      <th>mean</th>\n",
       "      <td>-0.019161</td>\n",
       "      <td>-0.299278</td>\n",
       "      <td>-0.703791</td>\n",
       "      <td>0.473913</td>\n",
       "    </tr>\n",
       "    <tr>\n",
       "      <th>std</th>\n",
       "      <td>0.988715</td>\n",
       "      <td>1.162060</td>\n",
       "      <td>0.943273</td>\n",
       "      <td>0.690404</td>\n",
       "    </tr>\n",
       "    <tr>\n",
       "      <th>min</th>\n",
       "      <td>-1.308835</td>\n",
       "      <td>-1.825204</td>\n",
       "      <td>-1.909562</td>\n",
       "      <td>-0.275183</td>\n",
       "    </tr>\n",
       "    <tr>\n",
       "      <th>25%</th>\n",
       "      <td>-0.709701</td>\n",
       "      <td>-0.906424</td>\n",
       "      <td>-1.449953</td>\n",
       "      <td>-0.020076</td>\n",
       "    </tr>\n",
       "    <tr>\n",
       "      <th>50%</th>\n",
       "      <td>0.108199</td>\n",
       "      <td>-0.556688</td>\n",
       "      <td>-0.596554</td>\n",
       "      <td>0.278844</td>\n",
       "    </tr>\n",
       "    <tr>\n",
       "      <th>75%</th>\n",
       "      <td>0.475461</td>\n",
       "      <td>0.489954</td>\n",
       "      <td>0.011598</td>\n",
       "      <td>1.083666</td>\n",
       "    </tr>\n",
       "    <tr>\n",
       "      <th>max</th>\n",
       "      <td>1.361922</td>\n",
       "      <td>1.327082</td>\n",
       "      <td>0.400024</td>\n",
       "      <td>1.328745</td>\n",
       "    </tr>\n",
       "  </tbody>\n",
       "</table>\n",
       "</div>"
      ],
      "text/plain": [
       "              A         B         C         D\n",
       "count  6.000000  6.000000  6.000000  6.000000\n",
       "mean  -0.019161 -0.299278 -0.703791  0.473913\n",
       "std    0.988715  1.162060  0.943273  0.690404\n",
       "min   -1.308835 -1.825204 -1.909562 -0.275183\n",
       "25%   -0.709701 -0.906424 -1.449953 -0.020076\n",
       "50%    0.108199 -0.556688 -0.596554  0.278844\n",
       "75%    0.475461  0.489954  0.011598  1.083666\n",
       "max    1.361922  1.327082  0.400024  1.328745"
      ]
     },
     "execution_count": 31,
     "metadata": {},
     "output_type": "execute_result"
    }
   ],
   "source": [
    "df.describe()"
   ]
  },
  {
   "cell_type": "code",
   "execution_count": null,
   "metadata": {
    "collapsed": true
   },
   "outputs": [],
   "source": [
    "df.mean()"
   ]
  },
  {
   "cell_type": "markdown",
   "metadata": {},
   "source": [
    "Dodatkowo, można używać funkcji znanych z baz danych jak grupowanie czy złączenie (join):"
   ]
  },
  {
   "cell_type": "code",
   "execution_count": null,
   "metadata": {
    "collapsed": true
   },
   "outputs": [],
   "source": [
    "df2.groupby('E').size()"
   ]
  },
  {
   "cell_type": "code",
   "execution_count": null,
   "metadata": {
    "collapsed": true
   },
   "outputs": [],
   "source": [
    "df2.groupby('E').mean()"
   ]
  },
  {
   "cell_type": "code",
   "execution_count": null,
   "metadata": {
    "collapsed": true
   },
   "outputs": [],
   "source": [
    "df2.join(df3, how='left', rsuffix='_3')"
   ]
  },
  {
   "cell_type": "code",
   "execution_count": null,
   "metadata": {
    "collapsed": true
   },
   "outputs": [],
   "source": [
    "df2.merge(df3)"
   ]
  },
  {
   "cell_type": "code",
   "execution_count": null,
   "metadata": {
    "collapsed": true
   },
   "outputs": [],
   "source": [
    "df2.merge(df3, how='outer')"
   ]
  },
  {
   "cell_type": "code",
   "execution_count": null,
   "metadata": {
    "collapsed": true
   },
   "outputs": [],
   "source": [
    "# Odpowiednik:\n",
    "# df2.join(df3, how='left', rsuffix='_3')\n",
    "df2.merge(df3, right_index=True, left_index=True, how='left', suffixes=('', '_3'))"
   ]
  },
  {
   "cell_type": "code",
   "execution_count": null,
   "metadata": {
    "collapsed": true
   },
   "outputs": [],
   "source": [
    "df2.append(df3)"
   ]
  },
  {
   "cell_type": "code",
   "execution_count": null,
   "metadata": {
    "collapsed": true
   },
   "outputs": [],
   "source": [
    "df2.append(df3, ignore_index=True)"
   ]
  },
  {
   "cell_type": "code",
   "execution_count": null,
   "metadata": {
    "collapsed": true
   },
   "outputs": [],
   "source": [
    "    pd.concat([df2, df3])"
   ]
  },
  {
   "cell_type": "code",
   "execution_count": null,
   "metadata": {
    "collapsed": true
   },
   "outputs": [],
   "source": [
    "pd.concat([df2, df3], ignore_index=True)"
   ]
  },
  {
   "cell_type": "code",
   "execution_count": 32,
   "metadata": {},
   "outputs": [
    {
     "data": {
      "text/html": [
       "<div>\n",
       "<style scoped>\n",
       "    .dataframe tbody tr th:only-of-type {\n",
       "        vertical-align: middle;\n",
       "    }\n",
       "\n",
       "    .dataframe tbody tr th {\n",
       "        vertical-align: top;\n",
       "    }\n",
       "\n",
       "    .dataframe thead th {\n",
       "        text-align: right;\n",
       "    }\n",
       "</style>\n",
       "<table border=\"1\" class=\"dataframe\">\n",
       "  <thead>\n",
       "    <tr style=\"text-align: right;\">\n",
       "      <th></th>\n",
       "      <th>A</th>\n",
       "      <th>B</th>\n",
       "      <th>C</th>\n",
       "    </tr>\n",
       "  </thead>\n",
       "  <tbody>\n",
       "    <tr>\n",
       "      <th>0</th>\n",
       "      <td>1.0</td>\n",
       "      <td>2013-01-02 00:00:00</td>\n",
       "      <td>1.0</td>\n",
       "    </tr>\n",
       "    <tr>\n",
       "      <th>1</th>\n",
       "      <td>1.0</td>\n",
       "      <td>2013-01-02 00:00:00</td>\n",
       "      <td>1.0</td>\n",
       "    </tr>\n",
       "    <tr>\n",
       "      <th>2</th>\n",
       "      <td>1.0</td>\n",
       "      <td>2013-01-02 00:00:00</td>\n",
       "      <td>1.0</td>\n",
       "    </tr>\n",
       "    <tr>\n",
       "      <th>3</th>\n",
       "      <td>1.0</td>\n",
       "      <td>2013-01-02 00:00:00</td>\n",
       "      <td>1.0</td>\n",
       "    </tr>\n",
       "    <tr>\n",
       "      <th>0</th>\n",
       "      <td>1.0</td>\n",
       "      <td>2</td>\n",
       "      <td>33.0</td>\n",
       "    </tr>\n",
       "    <tr>\n",
       "      <th>1</th>\n",
       "      <td>NaN</td>\n",
       "      <td>NaN</td>\n",
       "      <td>3.0</td>\n",
       "    </tr>\n",
       "  </tbody>\n",
       "</table>\n",
       "</div>"
      ],
      "text/plain": [
       "     A                    B     C\n",
       "0  1.0  2013-01-02 00:00:00   1.0\n",
       "1  1.0  2013-01-02 00:00:00   1.0\n",
       "2  1.0  2013-01-02 00:00:00   1.0\n",
       "3  1.0  2013-01-02 00:00:00   1.0\n",
       "0  1.0                    2  33.0\n",
       "1  NaN                  NaN   3.0"
      ]
     },
     "execution_count": 32,
     "metadata": {},
     "output_type": "execute_result"
    }
   ],
   "source": [
    "pd.concat([df2, df3], join='inner')"
   ]
  },
  {
   "cell_type": "markdown",
   "metadata": {},
   "source": [
    "## Zadanie\n",
    "\n",
    "Należy stworzyć DataFrame `samochody` z losową kolumną liczb całkowitych `przebieg` z przedziału [0, 200 000] oraz `spalanie` z przedziału [2, 20]. \n",
    "* dodaj kolumnę `marka`\n",
    "    * jeżeli samochód ma spalanie [0, 5] marka to VW\n",
    "    * jeżeli samochód ma spalanie [6, 10] marka to Ford\n",
    "    * jeżeli samochód ma spalanie 11 i więcej, marka to UAZ\n",
    "* dodaj kolumnę `pochodzenie`:\n",
    "    * jeżeli przebieg poniżej 100 km, pochodzenie `nowy`\n",
    "    * jeżeli przebieg powyżej 100 km, pochodzenie `uzywany`\n",
    "    * jeżeli przebieg powyżej 100 000 km, pochodzenie `z niemiec`\n",
    "* przeanalizuj dane statystycznie\n",
    "* ★ pogrupuj dane po `marce` i po `pochodzenie`:\n",
    "    * sprawdź liczność grup\n",
    "    * wykonaj analizę statystyczną"
   ]
  },
  {
   "cell_type": "code",
   "execution_count": 44,
   "metadata": {},
   "outputs": [
    {
     "data": {
      "text/html": [
       "<div>\n",
       "<style scoped>\n",
       "    .dataframe tbody tr th:only-of-type {\n",
       "        vertical-align: middle;\n",
       "    }\n",
       "\n",
       "    .dataframe tbody tr th {\n",
       "        vertical-align: top;\n",
       "    }\n",
       "\n",
       "    .dataframe thead th {\n",
       "        text-align: right;\n",
       "    }\n",
       "</style>\n",
       "<table border=\"1\" class=\"dataframe\">\n",
       "  <thead>\n",
       "    <tr style=\"text-align: right;\">\n",
       "      <th></th>\n",
       "      <th>przebieg</th>\n",
       "      <th>spalanie</th>\n",
       "    </tr>\n",
       "  </thead>\n",
       "  <tbody>\n",
       "    <tr>\n",
       "      <th>0</th>\n",
       "      <td>5588</td>\n",
       "      <td>15.264853</td>\n",
       "    </tr>\n",
       "    <tr>\n",
       "      <th>1</th>\n",
       "      <td>99747</td>\n",
       "      <td>4.308231</td>\n",
       "    </tr>\n",
       "    <tr>\n",
       "      <th>2</th>\n",
       "      <td>97302</td>\n",
       "      <td>11.575376</td>\n",
       "    </tr>\n",
       "    <tr>\n",
       "      <th>3</th>\n",
       "      <td>117155</td>\n",
       "      <td>18.862744</td>\n",
       "    </tr>\n",
       "    <tr>\n",
       "      <th>4</th>\n",
       "      <td>73709</td>\n",
       "      <td>18.138283</td>\n",
       "    </tr>\n",
       "  </tbody>\n",
       "</table>\n",
       "</div>"
      ],
      "text/plain": [
       "   przebieg   spalanie\n",
       "0      5588  15.264853\n",
       "1     99747   4.308231\n",
       "2     97302  11.575376\n",
       "3    117155  18.862744\n",
       "4     73709  18.138283"
      ]
     },
     "execution_count": 44,
     "metadata": {},
     "output_type": "execute_result"
    }
   ],
   "source": [
    "n = 50\n",
    "\n",
    "# np.random.randn  # rozklad normalny\n",
    "\n",
    "samochody = pd.DataFrame({\n",
    "    'przebieg': np.random.randint(0, 200_000, n),\n",
    "    'spalanie': 2 + 18*np.random.rand(n),\n",
    "})\n",
    "\n",
    "samochody.head()\n",
    "#samochody.describe()"
   ]
  },
  {
   "cell_type": "code",
   "execution_count": 48,
   "metadata": {},
   "outputs": [],
   "source": [
    "samochody.loc[samochody.spalanie < 5, 'marka'] = 'WV'"
   ]
  },
  {
   "cell_type": "code",
   "execution_count": 54,
   "metadata": {},
   "outputs": [
    {
     "data": {
      "text/html": [
       "<div>\n",
       "<style scoped>\n",
       "    .dataframe tbody tr th:only-of-type {\n",
       "        vertical-align: middle;\n",
       "    }\n",
       "\n",
       "    .dataframe tbody tr th {\n",
       "        vertical-align: top;\n",
       "    }\n",
       "\n",
       "    .dataframe thead th {\n",
       "        text-align: right;\n",
       "    }\n",
       "</style>\n",
       "<table border=\"1\" class=\"dataframe\">\n",
       "  <thead>\n",
       "    <tr style=\"text-align: right;\">\n",
       "      <th></th>\n",
       "      <th>przebieg</th>\n",
       "      <th>spalanie</th>\n",
       "      <th>marka</th>\n",
       "    </tr>\n",
       "  </thead>\n",
       "  <tbody>\n",
       "    <tr>\n",
       "      <th>0</th>\n",
       "      <td>5588</td>\n",
       "      <td>15.264853</td>\n",
       "      <td>UAZ</td>\n",
       "    </tr>\n",
       "    <tr>\n",
       "      <th>1</th>\n",
       "      <td>99747</td>\n",
       "      <td>4.308231</td>\n",
       "      <td>VW</td>\n",
       "    </tr>\n",
       "    <tr>\n",
       "      <th>2</th>\n",
       "      <td>97302</td>\n",
       "      <td>11.575376</td>\n",
       "      <td>UAZ</td>\n",
       "    </tr>\n",
       "    <tr>\n",
       "      <th>3</th>\n",
       "      <td>117155</td>\n",
       "      <td>18.862744</td>\n",
       "      <td>UAZ</td>\n",
       "    </tr>\n",
       "    <tr>\n",
       "      <th>4</th>\n",
       "      <td>73709</td>\n",
       "      <td>18.138283</td>\n",
       "      <td>UAZ</td>\n",
       "    </tr>\n",
       "  </tbody>\n",
       "</table>\n",
       "</div>"
      ],
      "text/plain": [
       "   przebieg   spalanie marka\n",
       "0      5588  15.264853   UAZ\n",
       "1     99747   4.308231    VW\n",
       "2     97302  11.575376   UAZ\n",
       "3    117155  18.862744   UAZ\n",
       "4     73709  18.138283   UAZ"
      ]
     },
     "execution_count": 54,
     "metadata": {},
     "output_type": "execute_result"
    }
   ],
   "source": [
    "samochody['marka'] = pd.cut(samochody.spalanie,\n",
    "                            bins=[0, 5, 10, 100],\n",
    "                            labels=['VW', 'Ford', 'UAZ'])\n",
    "samochody.head()"
   ]
  },
  {
   "cell_type": "code",
   "execution_count": 63,
   "metadata": {},
   "outputs": [
    {
     "data": {
      "text/html": [
       "<div>\n",
       "<style scoped>\n",
       "    .dataframe tbody tr th:only-of-type {\n",
       "        vertical-align: middle;\n",
       "    }\n",
       "\n",
       "    .dataframe tbody tr th {\n",
       "        vertical-align: top;\n",
       "    }\n",
       "\n",
       "    .dataframe thead tr th {\n",
       "        text-align: left;\n",
       "    }\n",
       "</style>\n",
       "<table border=\"1\" class=\"dataframe\">\n",
       "  <thead>\n",
       "    <tr>\n",
       "      <th></th>\n",
       "      <th>marka</th>\n",
       "      <th colspan=\"2\" halign=\"left\">VW</th>\n",
       "      <th colspan=\"2\" halign=\"left\">Ford</th>\n",
       "      <th colspan=\"2\" halign=\"left\">UAZ</th>\n",
       "    </tr>\n",
       "    <tr>\n",
       "      <th></th>\n",
       "      <th>pochodzenie</th>\n",
       "      <th>uzywany</th>\n",
       "      <th>z niemiec</th>\n",
       "      <th>uzywany</th>\n",
       "      <th>z niemiec</th>\n",
       "      <th>uzywany</th>\n",
       "      <th>z niemiec</th>\n",
       "    </tr>\n",
       "  </thead>\n",
       "  <tbody>\n",
       "    <tr>\n",
       "      <th rowspan=\"8\" valign=\"top\">przebieg</th>\n",
       "      <th>count</th>\n",
       "      <td>5.000000</td>\n",
       "      <td>7.000000</td>\n",
       "      <td>11.000000</td>\n",
       "      <td>6.000000</td>\n",
       "      <td>13.000000</td>\n",
       "      <td>8.000000</td>\n",
       "    </tr>\n",
       "    <tr>\n",
       "      <th>mean</th>\n",
       "      <td>53130.600000</td>\n",
       "      <td>147559.285714</td>\n",
       "      <td>52263.909091</td>\n",
       "      <td>179048.000000</td>\n",
       "      <td>47688.615385</td>\n",
       "      <td>147846.375000</td>\n",
       "    </tr>\n",
       "    <tr>\n",
       "      <th>std</th>\n",
       "      <td>43207.205363</td>\n",
       "      <td>27935.718079</td>\n",
       "      <td>35514.114012</td>\n",
       "      <td>8345.607132</td>\n",
       "      <td>33578.183062</td>\n",
       "      <td>29669.603213</td>\n",
       "    </tr>\n",
       "    <tr>\n",
       "      <th>min</th>\n",
       "      <td>2988.000000</td>\n",
       "      <td>109498.000000</td>\n",
       "      <td>8550.000000</td>\n",
       "      <td>164217.000000</td>\n",
       "      <td>1746.000000</td>\n",
       "      <td>105497.000000</td>\n",
       "    </tr>\n",
       "    <tr>\n",
       "      <th>25%</th>\n",
       "      <td>20030.000000</td>\n",
       "      <td>130846.000000</td>\n",
       "      <td>23674.000000</td>\n",
       "      <td>176727.500000</td>\n",
       "      <td>14940.000000</td>\n",
       "      <td>122390.750000</td>\n",
       "    </tr>\n",
       "    <tr>\n",
       "      <th>50%</th>\n",
       "      <td>48931.000000</td>\n",
       "      <td>147778.000000</td>\n",
       "      <td>50347.000000</td>\n",
       "      <td>181309.500000</td>\n",
       "      <td>50751.000000</td>\n",
       "      <td>154775.500000</td>\n",
       "    </tr>\n",
       "    <tr>\n",
       "      <th>75%</th>\n",
       "      <td>93957.000000</td>\n",
       "      <td>164885.000000</td>\n",
       "      <td>85860.500000</td>\n",
       "      <td>183584.500000</td>\n",
       "      <td>73709.000000</td>\n",
       "      <td>166537.500000</td>\n",
       "    </tr>\n",
       "    <tr>\n",
       "      <th>max</th>\n",
       "      <td>99747.000000</td>\n",
       "      <td>184177.000000</td>\n",
       "      <td>99884.000000</td>\n",
       "      <td>187909.000000</td>\n",
       "      <td>97302.000000</td>\n",
       "      <td>192988.000000</td>\n",
       "    </tr>\n",
       "    <tr>\n",
       "      <th rowspan=\"8\" valign=\"top\">spalanie</th>\n",
       "      <th>count</th>\n",
       "      <td>5.000000</td>\n",
       "      <td>7.000000</td>\n",
       "      <td>11.000000</td>\n",
       "      <td>6.000000</td>\n",
       "      <td>13.000000</td>\n",
       "      <td>8.000000</td>\n",
       "    </tr>\n",
       "    <tr>\n",
       "      <th>mean</th>\n",
       "      <td>3.508948</td>\n",
       "      <td>3.645898</td>\n",
       "      <td>7.409556</td>\n",
       "      <td>7.028662</td>\n",
       "      <td>14.566981</td>\n",
       "      <td>16.438332</td>\n",
       "    </tr>\n",
       "    <tr>\n",
       "      <th>std</th>\n",
       "      <td>1.068128</td>\n",
       "      <td>0.867709</td>\n",
       "      <td>1.636214</td>\n",
       "      <td>1.803311</td>\n",
       "      <td>3.030231</td>\n",
       "      <td>3.786771</td>\n",
       "    </tr>\n",
       "    <tr>\n",
       "      <th>min</th>\n",
       "      <td>2.486142</td>\n",
       "      <td>2.426900</td>\n",
       "      <td>5.123669</td>\n",
       "      <td>5.076044</td>\n",
       "      <td>10.143688</td>\n",
       "      <td>10.215177</td>\n",
       "    </tr>\n",
       "    <tr>\n",
       "      <th>25%</th>\n",
       "      <td>2.697416</td>\n",
       "      <td>3.021124</td>\n",
       "      <td>6.182025</td>\n",
       "      <td>5.648620</td>\n",
       "      <td>12.600224</td>\n",
       "      <td>15.449772</td>\n",
       "    </tr>\n",
       "    <tr>\n",
       "      <th>50%</th>\n",
       "      <td>3.108775</td>\n",
       "      <td>3.870043</td>\n",
       "      <td>7.442336</td>\n",
       "      <td>6.652541</td>\n",
       "      <td>13.524153</td>\n",
       "      <td>17.990315</td>\n",
       "    </tr>\n",
       "    <tr>\n",
       "      <th>75%</th>\n",
       "      <td>4.308231</td>\n",
       "      <td>4.245297</td>\n",
       "      <td>8.671341</td>\n",
       "      <td>8.621158</td>\n",
       "      <td>18.009058</td>\n",
       "      <td>18.933888</td>\n",
       "    </tr>\n",
       "    <tr>\n",
       "      <th>max</th>\n",
       "      <td>4.944177</td>\n",
       "      <td>4.691502</td>\n",
       "      <td>9.611147</td>\n",
       "      <td>9.199502</td>\n",
       "      <td>19.708519</td>\n",
       "      <td>19.580096</td>\n",
       "    </tr>\n",
       "  </tbody>\n",
       "</table>\n",
       "</div>"
      ],
      "text/plain": [
       "marka                     VW                         Ford                 \\\n",
       "pochodzenie          uzywany      z niemiec       uzywany      z niemiec   \n",
       "przebieg count      5.000000       7.000000     11.000000       6.000000   \n",
       "         mean   53130.600000  147559.285714  52263.909091  179048.000000   \n",
       "         std    43207.205363   27935.718079  35514.114012    8345.607132   \n",
       "         min     2988.000000  109498.000000   8550.000000  164217.000000   \n",
       "         25%    20030.000000  130846.000000  23674.000000  176727.500000   \n",
       "         50%    48931.000000  147778.000000  50347.000000  181309.500000   \n",
       "         75%    93957.000000  164885.000000  85860.500000  183584.500000   \n",
       "         max    99747.000000  184177.000000  99884.000000  187909.000000   \n",
       "spalanie count      5.000000       7.000000     11.000000       6.000000   \n",
       "         mean       3.508948       3.645898      7.409556       7.028662   \n",
       "         std        1.068128       0.867709      1.636214       1.803311   \n",
       "         min        2.486142       2.426900      5.123669       5.076044   \n",
       "         25%        2.697416       3.021124      6.182025       5.648620   \n",
       "         50%        3.108775       3.870043      7.442336       6.652541   \n",
       "         75%        4.308231       4.245297      8.671341       8.621158   \n",
       "         max        4.944177       4.691502      9.611147       9.199502   \n",
       "\n",
       "marka                    UAZ                 \n",
       "pochodzenie          uzywany      z niemiec  \n",
       "przebieg count     13.000000       8.000000  \n",
       "         mean   47688.615385  147846.375000  \n",
       "         std    33578.183062   29669.603213  \n",
       "         min     1746.000000  105497.000000  \n",
       "         25%    14940.000000  122390.750000  \n",
       "         50%    50751.000000  154775.500000  \n",
       "         75%    73709.000000  166537.500000  \n",
       "         max    97302.000000  192988.000000  \n",
       "spalanie count     13.000000       8.000000  \n",
       "         mean      14.566981      16.438332  \n",
       "         std        3.030231       3.786771  \n",
       "         min       10.143688      10.215177  \n",
       "         25%       12.600224      15.449772  \n",
       "         50%       13.524153      17.990315  \n",
       "         75%       18.009058      18.933888  \n",
       "         max       19.708519      19.580096  "
      ]
     },
     "execution_count": 63,
     "metadata": {},
     "output_type": "execute_result"
    }
   ],
   "source": [
    "samochody['pochodzenie'] = pd.cut(samochody.przebieg,\n",
    "                                    bins=[0, 100, 100_000, np.inf],\n",
    "                                    labels=['nowy', 'uzywany', 'z niemiec'])\n",
    "\n",
    "samochody.groupby(['marka', 'pochodzenie']).describe().T"
   ]
  },
  {
   "cell_type": "code",
   "execution_count": null,
   "metadata": {},
   "outputs": [],
   "source": []
  }
 ],
 "metadata": {
  "anaconda-cloud": {},
  "kernelspec": {
   "display_name": "Python 3",
   "language": "python",
   "name": "python3"
  },
  "language_info": {
   "codemirror_mode": {
    "name": "ipython",
    "version": 3
   },
   "file_extension": ".py",
   "mimetype": "text/x-python",
   "name": "python",
   "nbconvert_exporter": "python",
   "pygments_lexer": "ipython3",
   "version": "3.6.3"
  }
 },
 "nbformat": 4,
 "nbformat_minor": 1
}
